{
  "nbformat": 4,
  "nbformat_minor": 0,
  "metadata": {
    "colab": {
      "name": "bois.ipynb",
      "version": "0.3.2",
      "provenance": [],
      "collapsed_sections": [],
      "toc_visible": true,
      "include_colab_link": true
    },
    "kernelspec": {
      "name": "python3",
      "display_name": "Python 3"
    },
    "accelerator": "GPU"
  },
  "cells": [
    {
      "cell_type": "markdown",
      "metadata": {
        "id": "view-in-github",
        "colab_type": "text"
      },
      "source": [
        "<a href=\"https://colab.research.google.com/github/ratmcu/bois/blob/master/bois.ipynb\" target=\"_parent\"><img src=\"https://colab.research.google.com/assets/colab-badge.svg\" alt=\"Open In Colab\"/></a>"
      ]
    },
    {
      "cell_type": "code",
      "metadata": {
        "id": "AB23-W0gIb67",
        "colab_type": "code",
        "outputId": "dbdc1435-f308-498f-d129-0863c5d288fb",
        "colab": {
          "base_uri": "https://localhost:8080/",
          "height": 139
        }
      },
      "source": [
        "import sys\n",
        "import os\n",
        "import shutil\n",
        "if os.path.exists('Selfie_Filters_OpenCV') :\n",
        "    shutil.rmtree('Selfie_Filters_OpenCV')\n",
        "!git clone https://github.com/ratmcu/Selfie_Filters_OpenCV.git\n",
        "# !conda env create -f path/to/environment.yml\n",
        "!export PYTHONPATH=$PYTHONPATH:'Selfie_Filters_OpenCV'\n",
        "sys.path.append('Selfie_Filters_OpenCV')\n",
        "# !python test_image.py\n",
        "from my_CNN_model import *\n",
        "import cv2\n",
        "import numpy as np\n",
        "import math"
      ],
      "execution_count": 1,
      "outputs": [
        {
          "output_type": "stream",
          "text": [
            "Cloning into 'Selfie_Filters_OpenCV'...\n",
            "remote: Enumerating objects: 11, done.\u001b[K\n",
            "remote: Counting objects: 100% (11/11), done.\u001b[K\n",
            "remote: Compressing objects: 100% (8/8), done.\u001b[K\n",
            "remote: Total 67 (delta 3), reused 8 (delta 3), pack-reused 56\u001b[K\n",
            "Unpacking objects: 100% (67/67), done.\n"
          ],
          "name": "stdout"
        },
        {
          "output_type": "stream",
          "text": [
            "Using TensorFlow backend.\n"
          ],
          "name": "stderr"
        }
      ]
    },
    {
      "cell_type": "code",
      "metadata": {
        "id": "HZfvRS_NFrra",
        "colab_type": "code",
        "outputId": "e885739d-1b95-4fed-af34-bc961dd0bd20",
        "colab": {
          "base_uri": "https://localhost:8080/",
          "height": 723
        }
      },
      "source": [
        "from my_CNN_model import *\n",
        "import cv2\n",
        "import numpy as np\n",
        "\n",
        "# Load the model built in the previous step\n",
        "my_model = load_my_CNN_model('Selfie_Filters_OpenCV/my_model')\n",
        "\n",
        "# Face cascade to detect faces\n",
        "face_cascade = cv2.CascadeClassifier('Selfie_Filters_OpenCV/'+'cascades/haarcascade_frontalface_default.xml')\n",
        "\n",
        "# Define the upper and lower boundaries for a color to be considered \"Blue\"\n",
        "blueLower = np.array([100, 60, 60])\n",
        "blueUpper = np.array([140, 255, 255])\n",
        "\n",
        "# Define a 5x5 kernel for erosion and dilation\n",
        "kernel = np.ones((5, 5), np.uint8)\n",
        "\n",
        "# Define filters\n",
        "filters = ['images/sunglasses.png', 'images/sunglasses_2.png', 'images/sunglasses_3.jpg', 'images/sunglasses_4.png', 'images/sunglasses_5.jpg', 'images/sunglasses_6.png']\n",
        "filters = ['Selfie_Filters_OpenCV/'+filter for filter in filters]\n",
        "filterIndex = 0\n",
        "\n",
        "# Load the video\n",
        "# camera = cv2.VideoCapture(0)\n",
        "import matplotlib.pyplot as plt\n",
        "import random\n",
        "import pylab\n",
        "\n",
        "figure = pylab.figure()\n",
        "figure.suptitle('Selfie Filters', fontsize=20)\n",
        "# Keep looping\n",
        "while True:\n",
        "    # Grab the current paintWindow\n",
        "#     (grabbed, frame) = camera.read()\n",
        "    frame = cv2.imread(\"Selfie_Filters_OpenCV/images/bois.jpeg\")\n",
        "#     frame = cv2.imread(\"fn3.jpg\")\n",
        "    img_bg = cv2.cvtColor(frame, cv2.COLOR_BGR2RGB)\n",
        "    frame = cv2.flip(frame, 1)\n",
        "    img_bg = cv2.cvtColor(frame, cv2.COLOR_BGR2RGB)\n",
        "    frame2 = np.copy(frame)\n",
        "    hsv = cv2.cvtColor(frame, cv2.COLOR_BGR2HSV)\n",
        "    gray = cv2.cvtColor(frame, cv2.COLOR_BGR2GRAY)\n",
        "\n",
        "    # Add the 'Next Filter' button to the frame\n",
        "    frame = cv2.rectangle(frame, (500,10), (620,65), (235,50,50), -1)\n",
        "    cv2.putText(frame, \"NEXT FILTER\", (512, 37), cv2.FONT_HERSHEY_SIMPLEX, 0.5, (255, 255, 255), 2, cv2.LINE_AA)\n",
        "\n",
        "    # Detect faces\n",
        "    faces = face_cascade.detectMultiScale(gray, 1.25, 6)\n",
        "\n",
        "#     Determine which pixels fall within the blue boundaries and then blur the binary image\n",
        "#     blueMask = cv2.inRange(hsv, blueLower, blueUpper)\n",
        "#     blueMask = cv2.erode(blueMask, kernel, iterations=2)\n",
        "#     blueMask = cv2.morphologyEx(blueMask, cv2.MORPH_OPEN, kernel)\n",
        "#     blueMask = cv2.dilate(blueMask, kernel, iterations=1)\n",
        "\n",
        "    # Find contours (bottle cap in my case) in the image\n",
        "#     (_, cnts, _) = cv2.findContours(blueMask.copy(), cv2.RETR_EXTERNAL,\n",
        "#     \tcv2.CHAIN_APPROX_SIMPLE)\n",
        "#     center = None\n",
        "\n",
        "#     Check to see if any contours were found\n",
        "#     if len(cnts) > 0:\n",
        "#     \t# Sort the contours and find the largest one -- we\n",
        "#     \t# will assume this contour correspondes to the area of the bottle cap\n",
        "#         cnt = sorted(cnts, key = cv2.contourArea, reverse = True)[0]\n",
        "#         # Get the radius of the enclosing circle around the found contour\n",
        "#         ((x, y), radius) = cv2.minEnclosingCircle(cnt)\n",
        "#         # Draw the circle around the contour\n",
        "#         cv2.circle(frame, (int(x), int(y)), int(radius), (0, 255, 255), 2)\n",
        "#         # Get the moments to calculate the center of the contour (in this case Circle)\n",
        "#         M = cv2.moments(cnt)\n",
        "#         center = (int(M['m10'] / M['m00']), int(M['m01'] / M['m00']))\n",
        "\n",
        "#         if center[1] <= 65:\n",
        "#             if 500 <= center[0] <= 620: # Next Filter\n",
        "#                 filterIndex += 1\n",
        "#                 filterIndex %= 6\n",
        "#                 continue\n",
        "    face_id = 1\n",
        "    for (x, y, w, h) in faces:\n",
        "\n",
        "        # Grab the face\n",
        "        gray_face = gray[y:y+h, x:x+w]\n",
        "        color_face = frame[y:y+h, x:x+w]\n",
        "\n",
        "        # Normalize to match the input format of the model - Range of pixel to [0, 1]\n",
        "        gray_normalized = gray_face / 255\n",
        "\n",
        "        # Resize it to 96x96 to match the input format of the model\n",
        "        original_shape = gray_face.shape # A Copy for future reference\n",
        "        face_resized = cv2.resize(gray_normalized, (96, 96), interpolation = cv2.INTER_AREA)\n",
        "        face_resized_copy = face_resized.copy()\n",
        "        face_resized = face_resized.reshape(1, 96, 96, 1)\n",
        "\n",
        "        # Predicting the keypoints using the model\n",
        "        keypoints = my_model.predict(face_resized)\n",
        "\n",
        "        # De-Normalize the keypoints values\n",
        "        keypoints = keypoints * 48 + 48\n",
        "\n",
        "        # Map the Keypoints back to the original image\n",
        "        face_resized_color = cv2.resize(color_face, (96, 96), interpolation = cv2.INTER_AREA)\n",
        "        face_resized_color2 = np.copy(face_resized_color)\n",
        "\n",
        "        # Pair them together\n",
        "        points = []\n",
        "        for i, co in enumerate(keypoints[0][0::2]):\n",
        "            points.append((co, keypoints[0][1::2][i]))\n",
        "\n",
        "        # read the filter\n",
        "        sunglasses = cv2.imread(filters[filterIndex], cv2.IMREAD_UNCHANGED)\n",
        "        pivot_points = [(40, 30), (140, 30)]\n",
        "        face_resized_color = paste_mask([points[1], points[0]], pivot_points, sunglasses, face_resized_color)\n",
        "        face_resized_color = cv2.cvtColor(face_resized_color, cv2.COLOR_BGR2RGB)\n",
        "        # fill the area relavant to the frame on the bigger image\n",
        "        img_bg[y:y+h, x:x+w] = cv2.resize(face_resized_color, original_shape, interpolation = cv2.INTER_CUBIC)\n",
        "\n",
        "#         cv2.circle(face_resized_color, points[0], 1, (0,255,0), 1) #right eye\n",
        "#         cv2.circle(face_resized_color, points[1], 1, (0,255,0), 1) #left eye\n",
        "\n",
        "    break\n",
        "pylab.imshow(img_bg)\n",
        "pylab.show()"
      ],
      "execution_count": 6,
      "outputs": [
        {
          "output_type": "stream",
          "text": [
            "WARNING: Logging before flag parsing goes to stderr.\n",
            "W0620 01:27:50.808172 140379876706176 deprecation_wrapper.py:119] From /usr/local/lib/python3.6/dist-packages/keras/backend/tensorflow_backend.py:74: The name tf.get_default_graph is deprecated. Please use tf.compat.v1.get_default_graph instead.\n",
            "\n",
            "W0620 01:27:50.850701 140379876706176 deprecation_wrapper.py:119] From /usr/local/lib/python3.6/dist-packages/keras/backend/tensorflow_backend.py:517: The name tf.placeholder is deprecated. Please use tf.compat.v1.placeholder instead.\n",
            "\n",
            "W0620 01:27:50.857570 140379876706176 deprecation_wrapper.py:119] From /usr/local/lib/python3.6/dist-packages/keras/backend/tensorflow_backend.py:4138: The name tf.random_uniform is deprecated. Please use tf.random.uniform instead.\n",
            "\n",
            "W0620 01:27:50.883289 140379876706176 deprecation_wrapper.py:119] From /usr/local/lib/python3.6/dist-packages/keras/backend/tensorflow_backend.py:3976: The name tf.nn.max_pool is deprecated. Please use tf.nn.max_pool2d instead.\n",
            "\n",
            "W0620 01:27:50.901451 140379876706176 deprecation_wrapper.py:119] From /usr/local/lib/python3.6/dist-packages/keras/backend/tensorflow_backend.py:133: The name tf.placeholder_with_default is deprecated. Please use tf.compat.v1.placeholder_with_default instead.\n",
            "\n",
            "W0620 01:27:50.910847 140379876706176 deprecation.py:506] From /usr/local/lib/python3.6/dist-packages/keras/backend/tensorflow_backend.py:3445: calling dropout (from tensorflow.python.ops.nn_ops) with keep_prob is deprecated and will be removed in a future version.\n",
            "Instructions for updating:\n",
            "Please use `rate` instead of `keep_prob`. Rate should be set to `rate = 1 - keep_prob`.\n",
            "W0620 01:27:51.196416 140379876706176 deprecation_wrapper.py:119] From /usr/local/lib/python3.6/dist-packages/keras/backend/tensorflow_backend.py:174: The name tf.get_default_session is deprecated. Please use tf.compat.v1.get_default_session instead.\n",
            "\n",
            "W0620 01:27:53.966372 140379876706176 deprecation_wrapper.py:119] From /usr/local/lib/python3.6/dist-packages/keras/optimizers.py:790: The name tf.train.Optimizer is deprecated. Please use tf.compat.v1.train.Optimizer instead.\n",
            "\n"
          ],
          "name": "stderr"
        },
        {
          "output_type": "stream",
          "text": [
            "0.35125606436602097\n"
          ],
          "name": "stdout"
        },
        {
          "output_type": "error",
          "ename": "IndexError",
          "evalue": "ignored",
          "traceback": [
            "\u001b[0;31m---------------------------------------------------------------------------\u001b[0m",
            "\u001b[0;31mIndexError\u001b[0m                                Traceback (most recent call last)",
            "\u001b[0;32m<ipython-input-6-d068ba25650d>\u001b[0m in \u001b[0;36m<module>\u001b[0;34m()\u001b[0m\n\u001b[1;32m    112\u001b[0m         \u001b[0msunglasses\u001b[0m \u001b[0;34m=\u001b[0m \u001b[0mcv2\u001b[0m\u001b[0;34m.\u001b[0m\u001b[0mimread\u001b[0m\u001b[0;34m(\u001b[0m\u001b[0mfilters\u001b[0m\u001b[0;34m[\u001b[0m\u001b[0mfilterIndex\u001b[0m\u001b[0;34m]\u001b[0m\u001b[0;34m,\u001b[0m \u001b[0mcv2\u001b[0m\u001b[0;34m.\u001b[0m\u001b[0mIMREAD_UNCHANGED\u001b[0m\u001b[0;34m)\u001b[0m\u001b[0;34m\u001b[0m\u001b[0;34m\u001b[0m\u001b[0m\n\u001b[1;32m    113\u001b[0m         \u001b[0mpivot_points\u001b[0m \u001b[0;34m=\u001b[0m \u001b[0;34m[\u001b[0m\u001b[0;34m(\u001b[0m\u001b[0;36m40\u001b[0m\u001b[0;34m,\u001b[0m \u001b[0;36m30\u001b[0m\u001b[0;34m)\u001b[0m\u001b[0;34m,\u001b[0m \u001b[0;34m(\u001b[0m\u001b[0;36m140\u001b[0m\u001b[0;34m,\u001b[0m \u001b[0;36m30\u001b[0m\u001b[0;34m)\u001b[0m\u001b[0;34m]\u001b[0m\u001b[0;34m\u001b[0m\u001b[0;34m\u001b[0m\u001b[0m\n\u001b[0;32m--> 114\u001b[0;31m         \u001b[0mface_resized_color\u001b[0m \u001b[0;34m=\u001b[0m \u001b[0mpaste_mask\u001b[0m\u001b[0;34m(\u001b[0m\u001b[0;34m[\u001b[0m\u001b[0mpoints\u001b[0m\u001b[0;34m[\u001b[0m\u001b[0;36m1\u001b[0m\u001b[0;34m]\u001b[0m\u001b[0;34m,\u001b[0m \u001b[0mpoints\u001b[0m\u001b[0;34m[\u001b[0m\u001b[0;36m0\u001b[0m\u001b[0;34m]\u001b[0m\u001b[0;34m]\u001b[0m\u001b[0;34m,\u001b[0m \u001b[0mpivot_points\u001b[0m\u001b[0;34m,\u001b[0m \u001b[0msunglasses\u001b[0m\u001b[0;34m,\u001b[0m \u001b[0mface_resized_color\u001b[0m\u001b[0;34m)\u001b[0m\u001b[0;34m\u001b[0m\u001b[0;34m\u001b[0m\u001b[0m\n\u001b[0m\u001b[1;32m    115\u001b[0m         \u001b[0mface_resized_color\u001b[0m \u001b[0;34m=\u001b[0m \u001b[0mcv2\u001b[0m\u001b[0;34m.\u001b[0m\u001b[0mcvtColor\u001b[0m\u001b[0;34m(\u001b[0m\u001b[0mface_resized_color\u001b[0m\u001b[0;34m,\u001b[0m \u001b[0mcv2\u001b[0m\u001b[0;34m.\u001b[0m\u001b[0mCOLOR_BGR2RGB\u001b[0m\u001b[0;34m)\u001b[0m\u001b[0;34m\u001b[0m\u001b[0;34m\u001b[0m\u001b[0m\n\u001b[1;32m    116\u001b[0m         \u001b[0;31m# fill the area relavant to the frame on the bigger image\u001b[0m\u001b[0;34m\u001b[0m\u001b[0;34m\u001b[0m\u001b[0;34m\u001b[0m\u001b[0m\n",
            "\u001b[0;32m<ipython-input-2-1e82b5076ce6>\u001b[0m in \u001b[0;36mpaste_mask\u001b[0;34m(detected, pivots, mask, face)\u001b[0m\n\u001b[1;32m     53\u001b[0m     \u001b[0mstart_point_col\u001b[0m \u001b[0;34m=\u001b[0m \u001b[0mint\u001b[0m\u001b[0;34m(\u001b[0m\u001b[0mdetected\u001b[0m\u001b[0;34m[\u001b[0m\u001b[0;36m0\u001b[0m\u001b[0;34m]\u001b[0m\u001b[0;34m[\u001b[0m\u001b[0;36m0\u001b[0m\u001b[0;34m]\u001b[0m\u001b[0;34m-\u001b[0m\u001b[0mint\u001b[0m\u001b[0;34m(\u001b[0m\u001b[0mnew_eyes\u001b[0m\u001b[0;34m[\u001b[0m\u001b[0;36m0\u001b[0m\u001b[0;34m]\u001b[0m\u001b[0;34m[\u001b[0m\u001b[0;36m0\u001b[0m\u001b[0;34m]\u001b[0m\u001b[0;34m*\u001b[0m\u001b[0mscale\u001b[0m\u001b[0;34m)\u001b[0m\u001b[0;34m)\u001b[0m\u001b[0;34m\u001b[0m\u001b[0;34m\u001b[0m\u001b[0m\n\u001b[1;32m     54\u001b[0m     face[start_point_row:start_point_row+sunglass_height, \n\u001b[0;32m---> 55\u001b[0;31m                     start_point_col:start_point_col+sunglass_width,:][transparent_region] = mask_resized[:,:,:3][transparent_region]\n\u001b[0m\u001b[1;32m     56\u001b[0m     \u001b[0mcv2\u001b[0m\u001b[0;34m.\u001b[0m\u001b[0mcircle\u001b[0m\u001b[0;34m(\u001b[0m\u001b[0mface\u001b[0m\u001b[0;34m,\u001b[0m \u001b[0mdetected\u001b[0m\u001b[0;34m[\u001b[0m\u001b[0;36m0\u001b[0m\u001b[0;34m]\u001b[0m\u001b[0;34m,\u001b[0m \u001b[0;36m1\u001b[0m\u001b[0;34m,\u001b[0m \u001b[0;34m(\u001b[0m\u001b[0;36m0\u001b[0m\u001b[0;34m,\u001b[0m\u001b[0;36m255\u001b[0m\u001b[0;34m,\u001b[0m\u001b[0;36m0\u001b[0m\u001b[0;34m)\u001b[0m\u001b[0;34m,\u001b[0m \u001b[0;36m1\u001b[0m\u001b[0;34m)\u001b[0m\u001b[0;34m\u001b[0m\u001b[0;34m\u001b[0m\u001b[0m\n\u001b[1;32m     57\u001b[0m     \u001b[0mcv2\u001b[0m\u001b[0;34m.\u001b[0m\u001b[0mcircle\u001b[0m\u001b[0;34m(\u001b[0m\u001b[0mface\u001b[0m\u001b[0;34m,\u001b[0m  \u001b[0mdetected\u001b[0m\u001b[0;34m[\u001b[0m\u001b[0;36m1\u001b[0m\u001b[0;34m]\u001b[0m\u001b[0;34m,\u001b[0m \u001b[0;36m1\u001b[0m\u001b[0;34m,\u001b[0m \u001b[0;34m(\u001b[0m\u001b[0;36m0\u001b[0m\u001b[0;34m,\u001b[0m\u001b[0;36m255\u001b[0m\u001b[0;34m,\u001b[0m\u001b[0;36m0\u001b[0m\u001b[0;34m)\u001b[0m\u001b[0;34m,\u001b[0m \u001b[0;36m1\u001b[0m\u001b[0;34m)\u001b[0m\u001b[0;34m\u001b[0m\u001b[0;34m\u001b[0m\u001b[0m\n",
            "\u001b[0;31mIndexError\u001b[0m: boolean index did not match indexed array along dimension 0; dimension is 11 but corresponding boolean dimension is 107"
          ]
        },
        {
          "output_type": "display_data",
          "data": {
            "text/plain": [
              "<Figure size 432x288 with 0 Axes>"
            ]
          },
          "metadata": {
            "tags": []
          }
        }
      ]
    },
    {
      "cell_type": "code",
      "metadata": {
        "id": "mawok4ddsIn4",
        "colab_type": "code",
        "colab": {
          "base_uri": "https://localhost:8080/",
          "height": 607
        },
        "outputId": "fff972ea-e237-449f-ea32-f2345e70f15f"
      },
      "source": [
        "import numpy as np\n",
        "import matplotlib.pyplot as plt\n",
        "import pylab\n",
        "\n",
        "\n",
        "filters = ['images/sunglasses.png', 'images/sunglasses_2.png', 'images/sunglasses_3.jpg', 'images/sunglasses_4.png', 'images/sunglasses_5.jpg', 'images/sunglasses_6.png']\n",
        "filters = ['Selfie_Filters_OpenCV/'+filter for filter in filters]\n",
        "filterIndex = 0\n",
        "\n",
        "figure = pylab.figure()\n",
        "figure.suptitle('points test', fontsize=20)\n",
        "# detected_eyes = [(100, 50), (120, 70)]\n",
        "detected_eyes = [(100, 50), (120, 70)]\n",
        "original_eyes = [(40, 30), (140, 30)]\n",
        "# original_eyes = [(40, 30), (140, 30)]\n",
        "\n",
        "size = 200, 200, 3\n",
        "m = np.ones(size, dtype=np.uint8)*255\n",
        "# m = cv2.cvtColor(m, cv2.COLOR_RGB2RGBA)\n",
        "# print(m.shape)\n",
        "# cv2.circle(m, (20,50), 1, (0,255,0), 1)\n",
        "sunglasses = cv2.imread(filters[filterIndex], cv2.IMREAD_UNCHANGED)\n",
        "# figure = pylab.figure()\n",
        "# figure.suptitle('++++', fontsize=20)\n",
        "cv2.circle(m, detected_eyes[0], 1, (0,255,0), 1)\n",
        "cv2.circle(m,  detected_eyes[1], 1, (0,255,0), 1)\n",
        "pylab.imshow(m[:,:,:3])\n",
        "# figure = pylab.figure()\n",
        "# figure.suptitle('----', fontsize=20)\n",
        "cv2.circle(sunglasses,  original_eyes[0], 1, (0,255,0), -1)\n",
        "# cv2.circle(sunglasses, (20, 20), 5, (255,0,0), -1)\n",
        "\n",
        "# pylab.imshow(sunglasses)\n",
        "\n",
        "# angle = -(math.atan((points[1][1]-points[0][1])/(points[1][0]-points[0][0]))*(180))/math.pi\n",
        "scale = math.sqrt((detected_eyes[1][1]-detected_eyes[0][1])*(detected_eyes[1][1]-detected_eyes[0][1]) + \n",
        "                  (detected_eyes[1][0]-detected_eyes[0][0])*(detected_eyes[1][0]-detected_eyes[0][0]))/math.sqrt((original_eyes[1][1]-original_eyes[0][1])*(original_eyes[1][1]-original_eyes[0][1]) +\n",
        "                  ((original_eyes[1][0]-original_eyes[0][0])*(original_eyes[1][0]-original_eyes[0][0])))\n",
        "angle = (math.atan2((detected_eyes[0][1]-detected_eyes[1][1]), -(detected_eyes[0][0]-detected_eyes[1][0]))*(180))/math.pi\n",
        "rows, cols, channels = sunglasses.shape\n",
        "# print(rows, cols, channels)\n",
        "dr = rows - original_eyes[0][1]\n",
        "dc = cols - original_eyes[0][0]\n",
        "hyp = int(math.sqrt(dr*dr + dc*dc))\n",
        "# print(rows, cols, hyp)\n",
        "top    = int(hyp-original_eyes[0][0])  #\n",
        "bottom = int(hyp-rows+original_eyes[0][1])\n",
        "left   = int(hyp-original_eyes[0][1])  # shape[1] = cols\n",
        "right  = int(hyp-(cols-original_eyes[0][0]))\n",
        "print(scale)\n",
        "value = [0, 0, 0]\n",
        "borderType = cv2.BORDER_CONSTANT\n",
        "sunglass_resized = cv2.copyMakeBorder(sunglasses, top, bottom, left, right, borderType, None, value)\n",
        "# figure = pylab.figure()\n",
        "# figure.suptitle('bordered', fontsize=20)\n",
        "# pylab.imshow(sunglass_resized)\n",
        "bordered_dim = sunglass_resized.shape\n",
        "M = cv2.getRotationMatrix2D((original_eyes[0][0]+left,original_eyes[0][1]+top), angle, 1)\n",
        "sunglass_resized = cv2.warpAffine(sunglass_resized, M, (int(bordered_dim[1]), int(bordered_dim[0])))\n",
        "sunglass_width = int((bordered_dim[0])*scale)\n",
        "sunglass_height = int((bordered_dim[1])*scale)\n",
        "sunglass_resized = cv2.resize(sunglass_resized, (sunglass_width, sunglass_height), interpolation = cv2.INTER_CUBIC)\n",
        "# print(sunglass_resized.shape)\n",
        "# figure = pylab.figure()\n",
        "# figure.suptitle('resized', fontsize=20)\n",
        "# cv2.circle(sunglass_resized, (int(original_eyes[0][0]), int(original_eyes[0][1])), 1, (0,0,255), 1)\n",
        "# cv2.circle(sunglass_resized, (20, 20), 1, (0,0,255), 1)\n",
        "new_eyes = original_eyes.copy()\n",
        "# print(new_eyes[0][0])\n",
        "new_eyes[0] = list(new_eyes[0])\n",
        "new_eyes[1] = list(new_eyes[1])\n",
        "new_eyes[0][0] = original_eyes[0][0]+top\n",
        "new_eyes[0][1] = original_eyes[0][1]+left\n",
        "cv2.circle(sunglass_resized,  (int(new_eyes[0][0]*scale), int(new_eyes[0][1]*scale)), 1, (255,0,0), -1)\n",
        "# pylab.imshow(sunglass_resized)\n",
        "transparent_region = sunglass_resized[:,:,:3] != 0\n",
        "#adding the sunglasses to the face\n",
        "start_point_row = int(detected_eyes[0][1]-int(new_eyes[0][1]*scale))\n",
        "start_point_col = int(detected_eyes[0][0]-int(new_eyes[0][0]*scale))\n",
        "m[start_point_row:start_point_row+sunglass_height, \n",
        "                   start_point_col:start_point_col+sunglass_width,:][transparent_region] = sunglass_resized[:,:,:3][transparent_region]\n",
        "cv2.circle(m, detected_eyes[0], 1, (0,255,0), 1)\n",
        "cv2.circle(m,  detected_eyes[1], 1, (0,255,0), 1)\n",
        "figure = pylab.figure()\n",
        "figure.suptitle('final', fontsize=20)\n",
        "pylab.imshow(m)"
      ],
      "execution_count": 4,
      "outputs": [
        {
          "output_type": "stream",
          "text": [
            "0.282842712474619\n"
          ],
          "name": "stdout"
        },
        {
          "output_type": "execute_result",
          "data": {
            "text/plain": [
              "<matplotlib.image.AxesImage at 0x7faf81584a20>"
            ]
          },
          "metadata": {
            "tags": []
          },
          "execution_count": 4
        },
        {
          "output_type": "display_data",
          "data": {
            "image/png": "[encoded data removed]",
            "text/plain": [
              "<Figure size 432x288 with 1 Axes>"
            ]
          },
          "metadata": {
            "tags": []
          }
        },
        {
          "output_type": "display_data",
          "data": {
            "image/png": "[encoded data removed]",
            "text/plain": [
              "<Figure size 432x288 with 1 Axes>"
            ]
          },
          "metadata": {
            "tags": []
          }
        }
      ]
    },
    {
      "cell_type": "code",
      "metadata": {
        "id": "Nsps-6baJf4V",
        "colab_type": "code",
        "colab": {}
      },
      "source": [
        "def paste_mask(detected, pivots, mask, face):\n",
        "    cv2.circle(face, detected[0], 1, (0,255,0), 1)\n",
        "    cv2.circle(face,  detected[1], 1, (0,255,0), 1)\n",
        "    scale = math.sqrt((detected[1][1]-detected[0][1])*(detected[1][1]-detected[0][1]) + \n",
        "                    (detected[1][0]-detected[0][0])*(detected[1][0]-detected[0][0]))/math.sqrt((pivots[1][1]-pivots[0][1])*(pivots[1][1]-pivots[0][1]) +\n",
        "                              ((pivots[1][0]-pivots[0][0])*(pivots[1][0]-pivots[0][0])))\n",
        "    angle = (math.atan2((detected[0][1]-detected[1][1]), -(detected[0][0]-detected[1][0]))*(180))/math.pi\n",
        "    rows, cols, channels = mask.shape\n",
        "    print(rows, cols, channels)\n",
        "    dr = rows - pivots[0][1]\n",
        "    dc = cols - pivots[0][0]\n",
        "    hyp = int(math.sqrt(dr*dr + dc*dc))\n",
        "    # print(rows, cols, hyp)\n",
        "    # add the borders so the rotation won't clip any of the mask \n",
        "    top    = int(hyp-pivots[0][0])  #\n",
        "    bottom = int(hyp-rows+pivots[0][1])\n",
        "    left   = int(hyp-pivots[0][1])  # shape[1] = cols\n",
        "    right  = int(hyp-(cols-pivots[0][0]))\n",
        "    print(scale)\n",
        "    value = [0, 0, 0]\n",
        "    borderType = cv2.BORDER_CONSTANT\n",
        "    mask_resized = cv2.copyMakeBorder(mask, top, bottom, left, right, borderType, None, value)\n",
        "    # figure = pylab.figure()\n",
        "    # figure.suptitle('bordered', fontsize=20)\n",
        "    # pylab.imshow(mask_resized)\n",
        "\n",
        "    # rotate the mask inside the safely resized canvas\n",
        "    bordered_dim = mask_resized.shape\n",
        "    M = cv2.getRotationMatrix2D((pivots[0][0]+left, pivots[0][1]+top), angle, 1)\n",
        "    mask_resized = cv2.warpAffine(mask_resized, M, (int(bordered_dim[1]), int(bordered_dim[0])))\n",
        "\n",
        "    # resize the mask to match the scaling of the seperation between the face\n",
        "    sunglass_width = int((bordered_dim[0])*scale)\n",
        "    sunglass_height = int((bordered_dim[1])*scale)\n",
        "    mask_resized = cv2.resize(mask_resized, (sunglass_width, sunglass_height), interpolation = cv2.INTER_CUBIC)\n",
        "    # print(mask_resized.shape)\n",
        "    # figure = pylab.figure()\n",
        "    # figure.suptitle('resized', fontsize=20)\n",
        "    # cv2.circle(mask_resized, (int(original_eyes[0][0]), int(original_eyes[0][1])), 1, (0,0,255), 1)\n",
        "    # cv2.circle(mask_resized, (20, 20), 1, (0,0,255), 1)\n",
        "    new_eyes = pivots.copy()\n",
        "    # print(new_eyes[0][0])\n",
        "    new_eyes[0] = list(new_eyes[0])\n",
        "    new_eyes[1] = list(new_eyes[1])\n",
        "    new_eyes[0][0] = pivots[0][0]+top\n",
        "    new_eyes[0][1] = pivots[0][1]+left\n",
        "    cv2.circle(mask_resized,  (int(new_eyes[0][0]*scale), int(new_eyes[0][1]*scale)), 1, (255,0,0), -1)\n",
        "    # pylab.imshow(mask_resized)\n",
        "    transparent_region = mask_resized[:,:,:3] != 0\n",
        "    #adding the sunglasses to the face\n",
        "    # find the pixel position of the mask canvas to start on the face and fill the face\n",
        "    start_point_row = int(detected[0][1]-int(new_eyes[0][1]*scale))\n",
        "    start_point_col = int(detected[0][0]-int(new_eyes[0][0]*scale))\n",
        "    face[start_point_row:start_point_row+sunglass_height, \n",
        "                    start_point_col:start_point_col+sunglass_width,:][transparent_region] = mask_resized[:,:,:3][transparent_region]\n",
        "    cv2.circle(face, detected[0], 1, (0,255,0), 1)\n",
        "    cv2.circle(face,  detected[1], 1, (0,255,0), 1)\n",
        "    return face"
      ],
      "execution_count": 0,
      "outputs": []
    },
    {
      "cell_type": "code",
      "metadata": {
        "id": "WRUjtxlIJhaM",
        "colab_type": "code",
        "colab": {
          "base_uri": "https://localhost:8080/",
          "height": 347
        },
        "outputId": "d5ff15cd-1152-49ae-f592-2bc59d4d0bef"
      },
      "source": [
        "import numpy as np\n",
        "import matplotlib.pyplot as plt\n",
        "import pylab\n",
        "\n",
        "filters = ['images/sunglasses.png', 'images/sunglasses_2.png', 'images/sunglasses_3.jpg', 'images/sunglasses_4.png', 'images/sunglasses_5.jpg', 'images/sunglasses_6.png']\n",
        "filters = ['Selfie_Filters_OpenCV/'+filter for filter in filters]\n",
        "filterIndex = 0\n",
        "\n",
        "figure = pylab.figure()\n",
        "figure.suptitle('points test', fontsize=20)\n",
        "# detected_eyes = [(100, 50), (120, 70)]\n",
        "detected_eyes = [(100, 50), (120, 70)]\n",
        "original_eyes = [(40, 30), (140, 30)]\n",
        "# original_eyes = [(40, 30), (140, 30)]\n",
        "\n",
        "size = 200, 200, 3\n",
        "m = np.ones(size, dtype=np.uint8)*255\n",
        "# m = cv2.cvtColor(m, cv2.COLOR_RGB2RGBA)\n",
        "# print(m.shape)\n",
        "# cv2.circle(m, (20,50), 1, (0,255,0), 1)\n",
        "sunglasses = cv2.imread(filters[filterIndex], cv2.IMREAD_UNCHANGED)\n",
        "m = paste_mask(detected_eyes, original_eyes, sunglasses, m)\n",
        "figure = pylab.figure()\n",
        "figure.suptitle('final', fontsize=20)\n",
        "pylab.imshow(m)"
      ],
      "execution_count": 5,
      "outputs": [
        {
          "output_type": "stream",
          "text": [
            "0.282842712474619\n"
          ],
          "name": "stdout"
        },
        {
          "output_type": "execute_result",
          "data": {
            "text/plain": [
              "<matplotlib.image.AxesImage at 0x7fac6b23d470>"
            ]
          },
          "metadata": {
            "tags": []
          },
          "execution_count": 5
        },
        {
          "output_type": "display_data",
          "data": {
            "text/plain": [
              "<Figure size 432x288 with 0 Axes>"
            ]
          },
          "metadata": {
            "tags": []
          }
        },
        {
          "output_type": "display_data",
          "data": {
            "image/png": "[encoded data removed]",
            "text/plain": [
              "<Figure size 432x288 with 1 Axes>"
            ]
          },
          "metadata": {
            "tags": []
          }
        }
      ]
    }
  ]
}